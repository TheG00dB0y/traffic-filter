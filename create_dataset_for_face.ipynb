{
  "nbformat": 4,
  "nbformat_minor": 0,
  "metadata": {
    "colab": {
      "name": "create_dataset_for_face.ipynb",
      "provenance": [],
      "toc_visible": true,
      "mount_file_id": "1AjZGgQyHQDr8NRC7GDEv8Jj2QAQwCPqO",
      "authorship_tag": "ABX9TyOVvDVdpT91ksgawyStqZgz",
      "include_colab_link": true
    },
    "kernelspec": {
      "name": "python3",
      "display_name": "Python 3"
    }
  },
  "cells": [
    {
      "cell_type": "markdown",
      "metadata": {
        "id": "view-in-github",
        "colab_type": "text"
      },
      "source": [
        "<a href=\"https://colab.research.google.com/github/TheG00dB0y/traffic-filter/blob/master/create_dataset_for_face.ipynb\" target=\"_parent\"><img src=\"https://colab.research.google.com/assets/colab-badge.svg\" alt=\"Open In Colab\"/></a>"
      ]
    },
    {
      "cell_type": "markdown",
      "metadata": {
        "id": "EE3J9hXAUf_X",
        "colab_type": "text"
      },
      "source": [
        "#Widerface data preprocessing\n",
        "\n",
        "\n"
      ]
    },
    {
      "cell_type": "code",
      "metadata": {
        "id": "BW2Dkqxda6O2",
        "colab_type": "code",
        "colab": {}
      },
      "source": [
        "from IPython.display import clear_output\n",
        "from IPython.display import Image\n",
        "\n",
        "import cv2\n",
        "import os\n",
        "import random\n",
        "from shutil import copyfile\n",
        "from google.colab.patches import cv2_imshow\n",
        "clear_output()"
      ],
      "execution_count": 2,
      "outputs": []
    },
    {
      "cell_type": "markdown",
      "metadata": {
        "id": "ZADKgsEyV2-d",
        "colab_type": "text"
      },
      "source": [
        "Copy widerface dataset (if not downloaded :\n",
        "[Dataset download page](http://shuoyang1213.me/WIDERFACE/))"
      ]
    },
    {
      "cell_type": "code",
      "metadata": {
        "id": "k4IJVxKPYYYh",
        "colab_type": "code",
        "colab": {}
      },
      "source": [
        "!cp \"/content/drive/My Drive/Train_images/WIDER_test.zip\" \"/content/wider_test.zip\" \n",
        "!unzip wider_test.zip\n",
        "!rm wider_test.zip -r\n",
        "\n",
        "!cp \"/content/drive/My Drive/Train_images/WIDER_train.zip\" \"/content/wider_train.zip\" \n",
        "!unzip wider_train.zip\n",
        "!rm wider_train.zip -r\n",
        "\n",
        "!cp \"/content/drive/My Drive/Train_images/WIDER_val.zip\" \"/content/wider_val.zip\" \n",
        "!unzip wider_val.zip\n",
        "!rm wider_val.zip -r\n",
        "clear_output()"
      ],
      "execution_count": 6,
      "outputs": []
    },
    {
      "cell_type": "code",
      "metadata": {
        "id": "BDCptaWCUeHl",
        "colab_type": "code",
        "colab": {}
      },
      "source": [
        "#Download annotations\n",
        "!curl -L \"http://mmlab.ie.cuhk.edu.hk/projects/WIDERFace/support/bbx_annotation/wider_face_split.zip\" > annotations.zip; unzip annotations.zip; rm annotations.zip\n",
        "clear_output()"
      ],
      "execution_count": 7,
      "outputs": []
    },
    {
      "cell_type": "markdown",
      "metadata": {
        "id": "GOqZxaZZZQL1",
        "colab_type": "text"
      },
      "source": [
        "Set up empty folder structure if not exists"
      ]
    },
    {
      "cell_type": "code",
      "metadata": {
        "id": "oJi1TDVgIyZZ",
        "colab_type": "code",
        "colab": {}
      },
      "source": [
        "if not os.path.exists('train'):\n",
        "    os.makedirs('train')\n",
        "if not os.path.exists('train/images'):\n",
        "    os.makedirs('train/images')\n",
        "    os.makedirs('train/labels')\n",
        "if not os.path.exists('valid'):\n",
        "    os.makedirs('valid')\n",
        "if not os.path.exists('valid/images'):\n",
        "    os.makedirs('valid/images')\n",
        "    os.makedirs('valid/labels')\n",
        "            "
      ],
      "execution_count": 12,
      "outputs": []
    },
    {
      "cell_type": "markdown",
      "metadata": {
        "id": "JsU6lljxSCxD",
        "colab_type": "text"
      },
      "source": [
        "Adding files to colab\n"
      ]
    },
    {
      "cell_type": "markdown",
      "metadata": {
        "id": "KxcisVQXVF8f",
        "colab_type": "text"
      },
      "source": [
        "**train set**"
      ]
    },
    {
      "cell_type": "code",
      "metadata": {
        "id": "EErj7s2udegn",
        "colab_type": "code",
        "colab": {}
      },
      "source": [
        "img_source_dir = \"/content/WIDER_train/images\"\n",
        "lines = open(\"/content/wider_face_split/wider_face_train_bbx_gt.txt\").readlines()\n",
        "img_output_dir = \"train/images\"\n",
        "label_output_dir = \"train/labels\""
      ],
      "execution_count": 13,
      "outputs": []
    },
    {
      "cell_type": "markdown",
      "metadata": {
        "id": "KKva5sbzTEeP",
        "colab_type": "text"
      },
      "source": [
        "**Test Set (added with train set)**"
      ]
    },
    {
      "cell_type": "code",
      "metadata": {
        "id": "AI1jImr1TKup",
        "colab_type": "code",
        "colab": {}
      },
      "source": [
        "img_source_dir = \"/content/WIDER_test/images\"\n",
        "lines = open(\"/content/wider_face_split/wider_face_test_filelist.txt\").readlines()\n",
        "img_output_dir = \"train/images\"\n",
        "label_output_dir = \"train/labels\""
      ],
      "execution_count": 15,
      "outputs": []
    },
    {
      "cell_type": "markdown",
      "metadata": {
        "id": "YbMmG4VTTw1x",
        "colab_type": "text"
      },
      "source": [
        "**Validation Set**"
      ]
    },
    {
      "cell_type": "code",
      "metadata": {
        "id": "wC-iS6lmTwc6",
        "colab_type": "code",
        "colab": {}
      },
      "source": [
        "img_source_dir = \"/content/WIDER_val/images\"\n",
        "lines = open(\"/content/wider_face_split/wider_face_val_bbx_gt.txt\").readlines()\n",
        "img_output_dir = \"valid/images\"\n",
        "label_output_dir = \"valid/labels\""
      ],
      "execution_count": 18,
      "outputs": []
    },
    {
      "cell_type": "markdown",
      "metadata": {
        "id": "2wUGu7_CZDJc",
        "colab_type": "text"
      },
      "source": [
        "**Run for each sets**"
      ]
    },
    {
      "cell_type": "code",
      "metadata": {
        "id": "r--zkPXGso4I",
        "colab_type": "code",
        "colab": {}
      },
      "source": [
        "for line in lines:\n",
        "  if line.endswith(\".jpg\\n\"):\n",
        "    box = []\n",
        "    line = line.strip()\n",
        "    line_list = line.split('/',1)\n",
        "    img_name = line_list[1].strip()\n",
        "    img_name_label = img_name.split(\".jpg\")[0]\n",
        "    try:\n",
        "      img = cv2.imread(os.path.join(img_source_dir,line))\n",
        "      img_h, img_w , _ = img.shape\n",
        "      copyfile(os.path.join(img_source_dir,line),os.path.join(img_output_dir,img_name))\n",
        "    except:\n",
        "      print(\"ERROR\")\n",
        "      continue\n",
        "\n",
        "  elif(len(line)>10):\n",
        "      line = line.split()\n",
        "      # print(line)\n",
        "      # print(os.path.join('train/labels',img_name_label + '.txt'))\n",
        "      # label_file = open(os.path.join('train/labels',img_name_label + '.txt'),\"w\") \n",
        "      #convert labels\n",
        "      [x1,y1,w,h] = line[:4]\n",
        "      # print(x1,y1,w,h)\n",
        "      x = (int(x1)  + int(w)/2 ) /img_w\n",
        "      y = (int(y1)  + int(h)/2 ) /img_h\n",
        "      w = int(w) / img_w\n",
        "      h = int(h) / img_h\n",
        "      # print(x,y,w,h)\n",
        "      label_line = '11 ' + str(x) + ' ' + str(y) + ' ' + str(w) + ' ' + str(h)\n",
        "      # print(label_line)\n",
        "      with open(os.path.join(label_output_dir,img_name_label + '.txt'),\"a\") as label_file:\n",
        "        label_file.write(label_line)\n",
        "# clear_output()"
      ],
      "execution_count": 19,
      "outputs": []
    },
    {
      "cell_type": "markdown",
      "metadata": {
        "id": "0a9AEZxGYciT",
        "colab_type": "text"
      },
      "source": [
        "Display image"
      ]
    },
    {
      "cell_type": "code",
      "metadata": {
        "id": "ZS1jalg6bXxl",
        "colab_type": "code",
        "colab": {}
      },
      "source": [
        "# !ls \"/content/train/images\"\n",
        "from IPython.display import Image\n",
        "Image('/content/train/images/9_Press_Conference_Press_Conference_9_38.jpg')\n",
        "# cv2_imshow('/content/train/images/9_Press_Conference_Press_Conference_9_38.jpg')"
      ],
      "execution_count": null,
      "outputs": []
    },
    {
      "cell_type": "markdown",
      "metadata": {
        "id": "_pXgk9mwZi3Q",
        "colab_type": "text"
      },
      "source": [
        "#Dataset for udacity self driving cars"
      ]
    },
    {
      "cell_type": "code",
      "metadata": {
        "id": "-JVvL73McM5F",
        "colab_type": "code",
        "colab": {
          "base_uri": "https://localhost:8080/",
          "height": 35
        },
        "outputId": "201113c0-d0da-4d2e-d9fc-18c7638a3a6d"
      },
      "source": [
        "!git clone https://github.com/ultralytics/yolov5  # clone repo\n",
        "%cd yolov5\n",
        "#temporary until bug is fixed in current master\n",
        "!git reset --hard 5ba1de0cdcc414c69ceb7a4c45eb1e3895eca32a\n",
        "%cd /content\n",
        "\n",
        "!pip install -r yolov5/requirements.txt  # install dependencies\n",
        "%cd yolov5\n",
        "\n",
        "import torch\n",
        "from IPython.display import Image, clear_output  # to display images\n",
        "from utils.google_utils import gdrive_download  # to download models/datasets\n",
        "\n",
        "clear_output()\n",
        "print('Setup complete. Using torch %s %s' % (torch.__version__, torch.cuda.get_device_properties(0) if torch.cuda.is_available() else 'CPU'))"
      ],
      "execution_count": 20,
      "outputs": [
        {
          "output_type": "stream",
          "text": [
            "Setup complete. Using torch 1.5.1+cu101 CPU\n"
          ],
          "name": "stdout"
        }
      ]
    },
    {
      "cell_type": "code",
      "metadata": {
        "id": "W_dWxyEecUSN",
        "colab_type": "code",
        "colab": {}
      },
      "source": [
        "# %cd /content/yolov5\n",
        "# !bash \"/content/yolov5/weights/download_weights.sh\""
      ],
      "execution_count": null,
      "outputs": []
    },
    {
      "cell_type": "code",
      "metadata": {
        "id": "ZrpL0fFqcXH4",
        "colab_type": "code",
        "colab": {}
      },
      "source": [
        "%cd /content\n",
        "!curl -L \"https://public.roboflow.ai/ds/XCnZS0hI6C?key=H6G2RBhLy3\" > roboflow.zip; unzip roboflow.zip; rm roboflow.zip\n",
        "clear_output()\n",
        "print(\"Dataset downloaded\")"
      ],
      "execution_count": null,
      "outputs": []
    },
    {
      "cell_type": "markdown",
      "metadata": {
        "id": "do01D4nQalez",
        "colab_type": "text"
      },
      "source": [
        "Add new classes in the config"
      ]
    },
    {
      "cell_type": "code",
      "metadata": {
        "id": "l8pFXmC4ceOR",
        "colab_type": "code",
        "colab": {}
      },
      "source": [
        "%cat data.yaml"
      ],
      "execution_count": null,
      "outputs": []
    },
    {
      "cell_type": "code",
      "metadata": {
        "id": "P6b2hoWAclvd",
        "colab_type": "code",
        "colab": {}
      },
      "source": [
        "\n",
        "\n",
        "import os\n",
        "import random\n",
        "from shutil import copyfile\n",
        "\n",
        " \n",
        "img_source_dir = \"/content/export/images\"\n",
        "label_source_dir = \"/content/export/labels\"\n",
        "train_size = 0.8\n",
        "if not (isinstance(img_source_dir, str)):\n",
        "    raise AttributeError('img_source_dir must be a string')\n",
        "    \n",
        "if not os.path.exists(img_source_dir):\n",
        "    raise OSError('img_source_dir does not exist')\n",
        "    \n",
        "if not (isinstance(train_size, float)):\n",
        "    raise AttributeError('train_size must be a float')\n",
        "        \n",
        "    # Set up empty folder structure if not exists\n",
        "if not os.path.exists('train'):\n",
        "    os.makedirs('train')\n",
        "if not os.path.exists('train/images'):\n",
        "    os.makedirs('train/images')\n",
        "    os.makedirs('train/labels')\n",
        "if not os.path.exists('valid'):\n",
        "    os.makedirs('valid')\n",
        "if not os.path.exists('valid/images'):\n",
        "    os.makedirs('valid/images')\n",
        "    os.makedirs('valid/labels')\n",
        "            \n",
        "\n",
        "train_counter = 0\n",
        "validation_counter = 0\n",
        "\n"
      ],
      "execution_count": 23,
      "outputs": []
    },
    {
      "cell_type": "code",
      "metadata": {
        "id": "I1euUazzcoLN",
        "colab_type": "code",
        "colab": {
          "base_uri": "https://localhost:8080/",
          "height": 54
        },
        "outputId": "97b86a49-e611-468e-aa30-e71e4184bdd4"
      },
      "source": [
        "import cv2\n",
        "# Randomly assign an image to train or validation folder\n",
        "for filename in os.listdir(img_source_dir):\n",
        "    if filename.endswith(\".jpg\"):\n",
        "        fileparts = filename.split('.jpg')\n",
        "        # print(os.path.join(label_source_dir,fileparts[0] + '.txt'))\n",
        "        # print(os.path.join('train/images',filename))\n",
        "        # image = cv2.imread(os.path.join(img_source_dir,filename)) \n",
        "        # image = cv2.resize(image, (412, 412)) \n",
        "        if random.uniform(0, 1) <= train_size:\n",
        "\n",
        "            # copyfile(image, os.path.join('train/images',filename))\n",
        "            copyfile(os.path.join(img_source_dir,filename), os.path.join('train/images',filename))\n",
        "            copyfile(os.path.join(label_source_dir,fileparts[0] + '.txt'), os.path.join('train/labels',fileparts[0] + '.txt'))\n",
        "            train_counter += 1\n",
        "        else:\n",
        "            copyfile(os.path.join(img_source_dir,filename), os.path.join('valid/images',filename))\n",
        "            copyfile(os.path.join(label_source_dir,fileparts[0] + '.txt'), os.path.join('valid/labels',fileparts[0] + '.txt'))\n",
        "            validation_counter += 1 \n",
        "            \n",
        "print('Copied ' + str(train_counter) + ' images to /content/train' )\n",
        "print('Copied ' + str(validation_counter) + ' images to /content/valid' )"
      ],
      "execution_count": 24,
      "outputs": [
        {
          "output_type": "stream",
          "text": [
            "Copied 11954 images to /content/train\n",
            "Copied 3046 images to /content/valid\n"
          ],
          "name": "stdout"
        }
      ]
    },
    {
      "cell_type": "code",
      "metadata": {
        "id": "WmKStzNlcv9D",
        "colab_type": "code",
        "colab": {}
      },
      "source": [
        "!rm export -r\n",
        "!rm WIDER_test -r\n",
        "!rm WIDER_train -r\n",
        "!rm WIDER_val -r\n",
        "# !rm wider_face_split -r"
      ],
      "execution_count": 25,
      "outputs": []
    },
    {
      "cell_type": "code",
      "metadata": {
        "id": "aMvFXT0NcI2r",
        "colab_type": "code",
        "colab": {
          "base_uri": "https://localhost:8080/",
          "height": 35
        },
        "outputId": "4acbfba8-0a2e-4721-b3c5-d32e5af3702f"
      },
      "source": [
        "#Files Count\n",
        "path, dirs, files = next(os.walk(\"/content/train/images\"))\n",
        "file_count = len(files)\n",
        "print(file_count)"
      ],
      "execution_count": 27,
      "outputs": [
        {
          "output_type": "stream",
          "text": [
            "40931\n"
          ],
          "name": "stdout"
        }
      ]
    },
    {
      "cell_type": "markdown",
      "metadata": {
        "id": "nzyab7GEYQaU",
        "colab_type": "text"
      },
      "source": [
        "# Image testing (Not part of the code)"
      ]
    },
    {
      "cell_type": "code",
      "metadata": {
        "id": "V6DtieP4gODW",
        "colab_type": "code",
        "colab": {}
      },
      "source": [
        "import cv2\n",
        "from google.colab.patches import cv2_imshow\n",
        "image = cv2.imread(\"/content/1478019952686311006_jpg.rf.a8dc9db36ae4a7e6ecf234f85885a153.jpg\")\n",
        "start_point = (int(0.928- (0.0364/2)), int(0.510 - (0.218/2)))\n",
        "  \n",
        "# Ending coordinate, here (220, 220) \n",
        "# represents the bottom right corner of rectangle \n",
        "end_point = (int(0.928 + (0.0364/2)), int(0.510 + (0.218/2)))\n",
        "  \n",
        "# Blue color in BGR \n",
        "color = (255, 0, 0) \n",
        "  \n",
        "# Line thickness of 2 px \n",
        "thickness = 100\n",
        "  \n",
        "# Using cv2.rectangle() method \n",
        "# Draw a rectangle with blue line borders of thickness of 2 px \n",
        "# image = cv2.rectangle(image, start_point, end_point, color, thickness) \n",
        "print(image.shape)\n",
        "# 0.9286458333333333 * 512\n",
        "image = cv2.circle(image, (int(0.9286458333333333 * 512),int(0.5108333333333334 * 512)), radius=0, color=(0, 0, 255), thickness=2)\n",
        "cv2_imshow(image)\n",
        "344 347 84 138 0 0 0 0 0 0 \n",
        "539 353 90 117 1 0 0 0 0 0 "
      ],
      "execution_count": null,
      "outputs": []
    },
    {
      "cell_type": "code",
      "metadata": {
        "id": "QdxGqVTDga4F",
        "colab_type": "code",
        "colab": {}
      },
      "source": [
        "import cv2\n",
        "from google.colab.patches import cv2_imshow\n",
        "image = cv2.imread(\"/content/4_Dancing_Dancing_4_49.jpg\")\n",
        "\n",
        "start_point = (344,347)\n",
        "end_point = (344 + 84,347 +138)\n",
        "color = (255, 0, 0) \n",
        "thickness = 2\n",
        "image = cv2.circle(image, (167,301), radius=0, color=(0, 0, 255), thickness=10)\n",
        "\n",
        "image = cv2.rectangle(image, start_point, end_point, color, thickness) \n",
        "cv2_imshow(image)"
      ],
      "execution_count": null,
      "outputs": []
    },
    {
      "cell_type": "code",
      "metadata": {
        "id": "NnltQ-n9ppQK",
        "colab_type": "code",
        "colab": {}
      },
      "source": [
        ""
      ],
      "execution_count": null,
      "outputs": []
    }
  ]
}